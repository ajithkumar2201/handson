{
  "cells": [
    {
      "cell_type": "code",
      "execution_count": null,
      "metadata": {
        "colab": {
          "base_uri": "https://localhost:8080/"
        },
        "id": "mrdv2cUXZPDf",
        "outputId": "c9db9133-5e28-43d6-d96c-7eb92894267d"
      },
      "outputs": [
        {
          "name": "stdout",
          "output_type": "stream",
          "text": [
            "5\n"
          ]
        }
      ],
      "source": [
        "x=5\n",
        "print(x)"
      ]
    },
    {
      "cell_type": "code",
      "execution_count": null,
      "metadata": {
        "colab": {
          "base_uri": "https://localhost:8080/"
        },
        "id": "yPERCCSEZSrJ",
        "outputId": "ddce040a-2dec-4d09-99c1-bf20950d57e3"
      },
      "outputs": [
        {
          "name": "stdout",
          "output_type": "stream",
          "text": [
            "Hello Ajith\n"
          ]
        }
      ],
      "source": [
        "x='Hello Ajith'\n",
        "print(x)"
      ]
    },
    {
      "cell_type": "code",
      "execution_count": null,
      "metadata": {
        "colab": {
          "base_uri": "https://localhost:8080/"
        },
        "id": "MAJJ4teVZXsY",
        "outputId": "b40be892-c436-4587-f269-b2b4aa9655e6"
      },
      "outputs": [
        {
          "name": "stdout",
          "output_type": "stream",
          "text": [
            "Read the first number10\n",
            "Read the second number15\n",
            "Max = 15\n"
          ]
        }
      ],
      "source": [
        "a=int(input(\"Read the first number\"))\n",
        "b=int(input(\"Read the second number\"))\n",
        "if(a>b):\n",
        "  max=a\n",
        "else:\n",
        "  max=b\n",
        "print(\"Max =\",max)"
      ]
    },
    {
      "cell_type": "code",
      "execution_count": null,
      "metadata": {
        "colab": {
          "base_uri": "https://localhost:8080/"
        },
        "id": "o8yDl3m2bXed",
        "outputId": "b02de6c0-f843-4bf4-db39-afc81ab518b8"
      },
      "outputs": [
        {
          "name": "stdout",
          "output_type": "stream",
          "text": [
            "1 0 0\n"
          ]
        }
      ],
      "source": [
        "print(1,000,000)"
      ]
    },
    {
      "cell_type": "code",
      "execution_count": null,
      "metadata": {
        "colab": {
          "base_uri": "https://localhost:8080/"
        },
        "id": "qr7ajpdH1W3V",
        "outputId": "8350bf9c-509f-463e-8321-e4d9e285a8a8"
      },
      "outputs": [
        {
          "data": {
            "text/plain": [
              "25"
            ]
          },
          "execution_count": 6,
          "metadata": {},
          "output_type": "execute_result"
        }
      ],
      "source": [
        "5**2"
      ]
    },
    {
      "cell_type": "code",
      "execution_count": null,
      "metadata": {
        "colab": {
          "base_uri": "https://localhost:8080/"
        },
        "id": "OzHuaXSf_fsA",
        "outputId": "925d92bc-9667-430a-d0e6-6ddf8c3b0355"
      },
      "outputs": [
        {
          "name": "stdout",
          "output_type": "stream",
          "text": [
            "12\n"
          ]
        }
      ],
      "source": [
        "age = \"12\"\n",
        "print(age)"
      ]
    },
    {
      "cell_type": "code",
      "execution_count": null,
      "metadata": {
        "colab": {
          "base_uri": "https://localhost:8080/"
        },
        "id": "dGEA8Q8VVD11",
        "outputId": "dcb332ed-10b9-464e-ac31-8d98866fec11"
      },
      "outputs": [
        {
          "name": "stdout",
          "output_type": "stream",
          "text": [
            "12\n"
          ]
        }
      ],
      "source": [
        "int_age = int(age)\n",
        "print(age)"
      ]
    },
    {
      "cell_type": "code",
      "execution_count": null,
      "metadata": {
        "colab": {
          "base_uri": "https://localhost:8080/"
        },
        "id": "IbWyHpGzVPnP",
        "outputId": "c09bbf2f-c4a9-4e0a-f2df-5f3241d28632"
      },
      "outputs": [
        {
          "name": "stdout",
          "output_type": "stream",
          "text": [
            "7\n"
          ]
        }
      ],
      "source": [
        "print(int(7.9))"
      ]
    },
    {
      "cell_type": "code",
      "execution_count": null,
      "metadata": {
        "colab": {
          "base_uri": "https://localhost:8080/",
          "height": 175
        },
        "id": "v1rQ7g5rVoNP",
        "outputId": "23426828-f7cd-4a76-d785-7cf84d9a7d52"
      },
      "outputs": [
        {
          "ename": "ValueError",
          "evalue": "ignored",
          "output_type": "error",
          "traceback": [
            "\u001b[0;31m---------------------------------------------------------------------------\u001b[0m",
            "\u001b[0;31mValueError\u001b[0m                                Traceback (most recent call last)",
            "\u001b[0;32m<ipython-input-4-22a9d4455af2>\u001b[0m in \u001b[0;36m<cell line: 1>\u001b[0;34m()\u001b[0m\n\u001b[0;32m----> 1\u001b[0;31m \u001b[0mprint\u001b[0m\u001b[0;34m(\u001b[0m\u001b[0mint\u001b[0m\u001b[0;34m(\u001b[0m\u001b[0;34m\"7.9\"\u001b[0m\u001b[0;34m)\u001b[0m\u001b[0;34m)\u001b[0m\u001b[0;34m\u001b[0m\u001b[0;34m\u001b[0m\u001b[0m\n\u001b[0m",
            "\u001b[0;31mValueError\u001b[0m: invalid literal for int() with base 10: '7.9'"
          ]
        }
      ],
      "source": [
        "print(int(\"7.9\"))"
      ]
    },
    {
      "cell_type": "code",
      "execution_count": null,
      "metadata": {
        "colab": {
          "base_uri": "https://localhost:8080/"
        },
        "id": "x2SkUwyYVv_r",
        "outputId": "dbcbf0cc-92f3-4f86-d69c-e8ba466cf946"
      },
      "outputs": [
        {
          "name": "stdout",
          "output_type": "stream",
          "text": [
            "7.9\n"
          ]
        }
      ],
      "source": [
        "print(float(\"7.9\"))"
      ]
    },
    {
      "cell_type": "code",
      "execution_count": null,
      "metadata": {
        "colab": {
          "base_uri": "https://localhost:8080/"
        },
        "id": "f9bnYv0bWgv8",
        "outputId": "fdec7606-cfb0-46d0-ff9c-95e1ed841148"
      },
      "outputs": [
        {
          "name": "stdout",
          "output_type": "stream",
          "text": [
            "Enter hours\n",
            "3\n",
            "Enter rate per hour\n",
            "3\n",
            "The gross pay is \n",
            "9.0\n"
          ]
        }
      ],
      "source": [
        "hours = int(input(\"Enter hours\\n\"))\n",
        "rate = float(input(\"Enter rate per hour\\n\"))\n",
        "grosspay = hours* rate\n",
        "print('The gross pay is ')\n",
        "print(grosspay)"
      ]
    },
    {
      "cell_type": "code",
      "execution_count": null,
      "metadata": {
        "colab": {
          "base_uri": "https://localhost:8080/"
        },
        "id": "90QgqvW3b2ha",
        "outputId": "4e629408-2c00-4fc7-810b-817ab77259d6"
      },
      "outputs": [
        {
          "name": "stdout",
          "output_type": "stream",
          "text": [
            "8\n",
            "8.5\n",
            "4.0\n",
            "11\n"
          ]
        }
      ],
      "source": [
        "Width = 17\n",
        "Height = 12.0\n",
        "print(Width//2)\n",
        "print(Width/2.0)\n",
        "print(Height/3)\n",
        "print(1+2*5)"
      ]
    },
    {
      "cell_type": "code",
      "execution_count": null,
      "metadata": {
        "colab": {
          "base_uri": "https://localhost:8080/"
        },
        "id": "SlhOxGgUc3AZ",
        "outputId": "2e67108f-7018-4c5e-c5e1-d54784317d64"
      },
      "outputs": [
        {
          "name": "stdout",
          "output_type": "stream",
          "text": [
            "32\n",
            "89.6\n"
          ]
        }
      ],
      "source": [
        "celcius = int(input())\n",
        "f = (celcius*1.8)+32\n",
        "print(f)"
      ]
    },
    {
      "cell_type": "code",
      "execution_count": null,
      "metadata": {
        "colab": {
          "base_uri": "https://localhost:8080/"
        },
        "id": "JU0xzdl6eDg-",
        "outputId": "67e02804-ce98-40b5-f9f6-265e5493308b"
      },
      "outputs": [
        {
          "name": "stdout",
          "output_type": "stream",
          "text": [
            "b\n",
            "The ascii value of b is 98\n"
          ]
        }
      ],
      "source": [
        "char = input()\n",
        "print('The ascii value of '+ char + ' is', ord(char))"
      ]
    },
    {
      "cell_type": "code",
      "execution_count": null,
      "metadata": {
        "colab": {
          "base_uri": "https://localhost:8080/"
        },
        "id": "oclaGlJFeuig",
        "outputId": "1ab337c2-6526-4585-9b9c-636276ae7155"
      },
      "outputs": [
        {
          "output_type": "stream",
          "name": "stdout",
          "text": [
            "G F G\n"
          ]
        }
      ],
      "source": [
        "print('G','F','G',sep=' ')"
      ]
    },
    {
      "cell_type": "code",
      "source": [
        "print(\"Python\",end='@')\n",
        "print('GeeksforGeeks')"
      ],
      "metadata": {
        "colab": {
          "base_uri": "https://localhost:8080/"
        },
        "id": "DAzdwqtd-KMK",
        "outputId": "e1aa5c71-2b1c-4376-91fb-3d1f0388edc0"
      },
      "execution_count": null,
      "outputs": [
        {
          "output_type": "stream",
          "name": "stdout",
          "text": [
            "Python@GeeksforGeeks\n"
          ]
        }
      ]
    },
    {
      "cell_type": "code",
      "source": [
        "x=int(input())\n",
        "y=int(input())\n",
        "x,y=y,x\n",
        "print('x=',x)\n",
        "print('y=',y)"
      ],
      "metadata": {
        "colab": {
          "base_uri": "https://localhost:8080/"
        },
        "id": "oUhFFIo2-oir",
        "outputId": "d576ee24-2416-4b52-d5d1-02fa3dda3550"
      },
      "execution_count": null,
      "outputs": [
        {
          "output_type": "stream",
          "name": "stdout",
          "text": [
            "10\n",
            "20\n",
            "x= 20\n",
            "y= 10\n"
          ]
        }
      ]
    },
    {
      "cell_type": "code",
      "source": [
        "a = 1.0/(2.0*3.142)\n",
        "print(a)"
      ],
      "metadata": {
        "colab": {
          "base_uri": "https://localhost:8080/"
        },
        "id": "E-1i6atITzf5",
        "outputId": "8f86a3f6-7414-4661-e8e4-33c230eb2ec5"
      },
      "execution_count": null,
      "outputs": [
        {
          "output_type": "stream",
          "name": "stdout",
          "text": [
            "0.1591343093570974\n"
          ]
        }
      ]
    },
    {
      "cell_type": "code",
      "source": [
        "x=5\n",
        "if(x>0) :\n",
        "  print('Postive')\n"
      ],
      "metadata": {
        "id": "Jlj_CeDjUL-i",
        "colab": {
          "base_uri": "https://localhost:8080/"
        },
        "outputId": "4239e71e-620f-43f5-dec9-48badd3f526c"
      },
      "execution_count": null,
      "outputs": [
        {
          "output_type": "stream",
          "name": "stdout",
          "text": [
            "Postive\n"
          ]
        }
      ]
    },
    {
      "cell_type": "code",
      "source": [
        "from IPython.core.inputtransformer2 import find_last_indent\n",
        "a=int(input())\n",
        "b=int(input())\n",
        "try:\n",
        "  c=a//b\n",
        "  print(c)\n",
        "except:\n",
        "  print('cant divide by zero')\n",
        "finally:\n",
        "  print('This is always executed')"
      ],
      "metadata": {
        "colab": {
          "base_uri": "https://localhost:8080/"
        },
        "id": "zHeeo8J0E9TO",
        "outputId": "67e15c28-83af-41e6-fa44-f5b443f14c57"
      },
      "execution_count": null,
      "outputs": [
        {
          "output_type": "stream",
          "name": "stdout",
          "text": [
            "5\n",
            "0\n",
            "cant divide by zero\n",
            "This is always executed\n"
          ]
        }
      ]
    },
    {
      "cell_type": "code",
      "source": [
        "type(32)"
      ],
      "metadata": {
        "colab": {
          "base_uri": "https://localhost:8080/"
        },
        "id": "buhD_c0NIWKk",
        "outputId": "910e1afc-f2ca-4c99-83a2-1fb1cb375960"
      },
      "execution_count": null,
      "outputs": [
        {
          "output_type": "execute_result",
          "data": {
            "text/plain": [
              "int"
            ]
          },
          "metadata": {},
          "execution_count": 8
        }
      ]
    },
    {
      "cell_type": "code",
      "source": [
        "import math\n",
        "print(math)"
      ],
      "metadata": {
        "colab": {
          "base_uri": "https://localhost:8080/"
        },
        "id": "vCVWJsZLIYdy",
        "outputId": "8e0ce5f4-d2c1-48d9-ceee-2e4b7b490778"
      },
      "execution_count": null,
      "outputs": [
        {
          "output_type": "stream",
          "name": "stdout",
          "text": [
            "<module 'math' (built-in)>\n"
          ]
        }
      ]
    },
    {
      "cell_type": "code",
      "source": [
        "math.sqrt(2)"
      ],
      "metadata": {
        "colab": {
          "base_uri": "https://localhost:8080/"
        },
        "id": "qxqdV6pfI1rq",
        "outputId": "373a07ac-0319-420b-a242-02a164bcb4ab"
      },
      "execution_count": null,
      "outputs": [
        {
          "output_type": "execute_result",
          "data": {
            "text/plain": [
              "1.4142135623730951"
            ]
          },
          "metadata": {},
          "execution_count": 10
        }
      ]
    },
    {
      "cell_type": "code",
      "source": [
        "print(random)"
      ],
      "metadata": {
        "colab": {
          "base_uri": "https://localhost:8080/",
          "height": 175
        },
        "id": "dpInMkZpI6vi",
        "outputId": "0b205f8a-3d0e-48d4-b6a2-64acb89ee69f"
      },
      "execution_count": null,
      "outputs": [
        {
          "output_type": "error",
          "ename": "NameError",
          "evalue": "ignored",
          "traceback": [
            "\u001b[0;31m---------------------------------------------------------------------------\u001b[0m",
            "\u001b[0;31mNameError\u001b[0m                                 Traceback (most recent call last)",
            "\u001b[0;32m<ipython-input-11-ae9ed07bb99b>\u001b[0m in \u001b[0;36m<cell line: 1>\u001b[0;34m()\u001b[0m\n\u001b[0;32m----> 1\u001b[0;31m \u001b[0mprint\u001b[0m\u001b[0;34m(\u001b[0m\u001b[0mrandom\u001b[0m\u001b[0;34m)\u001b[0m\u001b[0;34m\u001b[0m\u001b[0;34m\u001b[0m\u001b[0m\n\u001b[0m",
            "\u001b[0;31mNameError\u001b[0m: name 'random' is not defined"
          ]
        }
      ]
    },
    {
      "cell_type": "code",
      "source": [
        "import random\n",
        "print(random)"
      ],
      "metadata": {
        "colab": {
          "base_uri": "https://localhost:8080/"
        },
        "id": "G6p8GNruJN7O",
        "outputId": "d5bbba96-0570-491c-b462-520e3d73775e"
      },
      "execution_count": null,
      "outputs": [
        {
          "output_type": "stream",
          "name": "stdout",
          "text": [
            "<module 'random' from '/usr/lib/python3.10/random.py'>\n"
          ]
        }
      ]
    },
    {
      "cell_type": "code",
      "source": [
        "import random\n",
        "print(random.random())"
      ],
      "metadata": {
        "colab": {
          "base_uri": "https://localhost:8080/"
        },
        "id": "kSpThzUdJS8i",
        "outputId": "57e5c427-9273-4431-a09e-de71ce36033b"
      },
      "execution_count": null,
      "outputs": [
        {
          "output_type": "stream",
          "name": "stdout",
          "text": [
            "0.874683318536787\n"
          ]
        }
      ]
    },
    {
      "cell_type": "code",
      "source": [
        "def ajith():\n",
        "  print('Hi I m Ajith Kumar S')\n",
        "  print('I m a developer')\n",
        "\n",
        "ajith()"
      ],
      "metadata": {
        "colab": {
          "base_uri": "https://localhost:8080/"
        },
        "id": "sylHQjn6JaS3",
        "outputId": "d042de2f-0cbe-469a-f1d9-14b9f687db7b"
      },
      "execution_count": null,
      "outputs": [
        {
          "output_type": "stream",
          "name": "stdout",
          "text": [
            "Hi I m Ajith Kumar S\n",
            "I m a developer\n"
          ]
        }
      ]
    },
    {
      "cell_type": "code",
      "source": [
        "def myfun(*kids):\n",
        "  print('youngest child is '+kids[1])\n",
        "\n",
        "myfun('ajith','vinith','mithila')"
      ],
      "metadata": {
        "colab": {
          "base_uri": "https://localhost:8080/"
        },
        "id": "Dhs8GLV8f64d",
        "outputId": "16cf4716-ebdd-4110-a28a-217db944170c"
      },
      "execution_count": null,
      "outputs": [
        {
          "output_type": "stream",
          "name": "stdout",
          "text": [
            "youngest child is vinith\n"
          ]
        }
      ]
    },
    {
      "cell_type": "code",
      "source": [
        "def factorial(n):\n",
        "  if n==1:\n",
        "    return 1\n",
        "  else:\n",
        "    return n*factorial(n-1)\n",
        "\n",
        "num=5;\n",
        "print(factorial(num))"
      ],
      "metadata": {
        "colab": {
          "base_uri": "https://localhost:8080/"
        },
        "id": "rXgtLAx2hoN9",
        "outputId": "f099989d-43d2-49fe-8c53-52eb9102377a"
      },
      "execution_count": null,
      "outputs": [
        {
          "output_type": "stream",
          "name": "stdout",
          "text": [
            "120\n"
          ]
        }
      ]
    },
    {
      "cell_type": "code",
      "source": [
        "x=x+1\n",
        "print(x)"
      ],
      "metadata": {
        "colab": {
          "base_uri": "https://localhost:8080/",
          "height": 192
        },
        "id": "Zo8KNvQMF8Sh",
        "outputId": "056c23ae-39f8-4655-c66e-adc7a7e38cdd"
      },
      "execution_count": null,
      "outputs": [
        {
          "output_type": "error",
          "ename": "NameError",
          "evalue": "ignored",
          "traceback": [
            "\u001b[0;31m---------------------------------------------------------------------------\u001b[0m",
            "\u001b[0;31mNameError\u001b[0m                                 Traceback (most recent call last)",
            "\u001b[0;32m<ipython-input-1-c775a8c6e463>\u001b[0m in \u001b[0;36m<cell line: 1>\u001b[0;34m()\u001b[0m\n\u001b[0;32m----> 1\u001b[0;31m \u001b[0mx\u001b[0m\u001b[0;34m=\u001b[0m\u001b[0mx\u001b[0m\u001b[0;34m+\u001b[0m\u001b[0;36m1\u001b[0m\u001b[0;34m\u001b[0m\u001b[0;34m\u001b[0m\u001b[0m\n\u001b[0m\u001b[1;32m      2\u001b[0m \u001b[0mprint\u001b[0m\u001b[0;34m(\u001b[0m\u001b[0mx\u001b[0m\u001b[0;34m)\u001b[0m\u001b[0;34m\u001b[0m\u001b[0;34m\u001b[0m\u001b[0m\n",
            "\u001b[0;31mNameError\u001b[0m: name 'x' is not defined"
          ]
        }
      ]
    },
    {
      "cell_type": "code",
      "source": [
        "x=0\n",
        "x=x+1\n",
        "print(x)"
      ],
      "metadata": {
        "colab": {
          "base_uri": "https://localhost:8080/"
        },
        "id": "NXpKv0USH4Vk",
        "outputId": "e02ee612-5538-486a-9eac-71e28481fc91"
      },
      "execution_count": null,
      "outputs": [
        {
          "output_type": "stream",
          "name": "stdout",
          "text": [
            "1\n"
          ]
        }
      ]
    },
    {
      "cell_type": "code",
      "source": [
        "n=1\n",
        "while n<=10:\n",
        "  print(n)\n",
        "  n=n+1\n"
      ],
      "metadata": {
        "colab": {
          "base_uri": "https://localhost:8080/"
        },
        "id": "HpOIk95dIBD9",
        "outputId": "22ef47e0-1f80-41eb-8b46-1417fe48bac0"
      },
      "execution_count": null,
      "outputs": [
        {
          "output_type": "stream",
          "name": "stdout",
          "text": [
            "1\n",
            "2\n",
            "3\n",
            "4\n",
            "5\n",
            "6\n",
            "7\n",
            "8\n",
            "9\n",
            "10\n"
          ]
        }
      ]
    },
    {
      "cell_type": "code",
      "source": [
        "n=5\n",
        "while n>0:\n",
        "  n-=1\n",
        "  if n==2:\n",
        "    break\n",
        "  print(n)"
      ],
      "metadata": {
        "colab": {
          "base_uri": "https://localhost:8080/"
        },
        "id": "tLmgUtEtSKvz",
        "outputId": "ea029b0d-b3e6-4508-c652-37ecfc013014"
      },
      "execution_count": null,
      "outputs": [
        {
          "output_type": "stream",
          "name": "stdout",
          "text": [
            "4\n",
            "3\n"
          ]
        }
      ]
    },
    {
      "cell_type": "code",
      "source": [
        "var=10\n",
        "while var>0:\n",
        "  var = var-1\n",
        "  if var==5:\n",
        "    continue\n",
        "  print(var)"
      ],
      "metadata": {
        "colab": {
          "base_uri": "https://localhost:8080/"
        },
        "id": "xHD4q5EfSoVQ",
        "outputId": "89efbdba-f51f-4879-e393-a7059a11e555"
      },
      "execution_count": null,
      "outputs": [
        {
          "output_type": "stream",
          "name": "stdout",
          "text": [
            "9\n",
            "8\n",
            "7\n",
            "6\n",
            "4\n",
            "3\n",
            "2\n",
            "1\n",
            "0\n"
          ]
        }
      ]
    },
    {
      "cell_type": "code",
      "source": [
        "sum=0\n",
        "count=0\n",
        "while True:\n",
        "  num = int(input())\n",
        "  if num%2!=0:\n",
        "    continue\n",
        "  else:\n",
        "    sum = sum + num\n",
        "    count = count+1\n",
        "\n",
        "    if count==5:\n",
        "      break\n",
        "print(sum)\n"
      ],
      "metadata": {
        "colab": {
          "base_uri": "https://localhost:8080/"
        },
        "id": "AZ-M1abeU5Nt",
        "outputId": "d4029351-8147-4d04-911f-e442be21e4b9"
      },
      "execution_count": null,
      "outputs": [
        {
          "output_type": "stream",
          "name": "stdout",
          "text": [
            "25\n",
            "6\n",
            "8\n",
            "4\n",
            "2\n",
            "6\n",
            "26\n"
          ]
        }
      ]
    },
    {
      "cell_type": "code",
      "source": [
        "names = [\"Ram\",\"Shyam\", 'Bheem\n",
        "']\n",
        "for x in names:\n",
        "  print(x)"
      ],
      "metadata": {
        "id": "a_Xy-ieCjQtL",
        "colab": {
          "base_uri": "https://localhost:8080/"
        },
        "outputId": "fb02f0d1-9a9f-404f-db40-aa708d526345"
      },
      "execution_count": null,
      "outputs": [
        {
          "output_type": "stream",
          "name": "stdout",
          "text": [
            "Ram\n",
            "Shyam\n",
            "Bheem\n"
          ]
        }
      ]
    },
    {
      "cell_type": "code",
      "source": [
        "for i in \"Hello\":\n",
        "  print(i)"
      ],
      "metadata": {
        "colab": {
          "base_uri": "https://localhost:8080/"
        },
        "id": "omPm8QyRdg9D",
        "outputId": "97d4c563-3d8f-492f-a9e6-413215d1530b"
      },
      "execution_count": null,
      "outputs": [
        {
          "output_type": "stream",
          "name": "stdout",
          "text": [
            "H\n",
            "e\n",
            "l\n",
            "l\n",
            "o\n"
          ]
        }
      ]
    },
    {
      "cell_type": "code",
      "source": [
        "for i in \"Hello\":\n",
        "  print(i,end = '\\t')"
      ],
      "metadata": {
        "colab": {
          "base_uri": "https://localhost:8080/"
        },
        "id": "BJe6y923dopR",
        "outputId": "c669e2cd-089e-4b70-a372-bc21679642d5"
      },
      "execution_count": null,
      "outputs": [
        {
          "output_type": "stream",
          "name": "stdout",
          "text": [
            "H\te\tl\tl\to\t"
          ]
        }
      ]
    },
    {
      "cell_type": "code",
      "source": [
        "for i in range(0,10,2):\n",
        "  print(i)"
      ],
      "metadata": {
        "colab": {
          "base_uri": "https://localhost:8080/"
        },
        "id": "I6ioJ-TFdtMi",
        "outputId": "a3054b8f-e390-4017-e702-e7e4483c8310"
      },
      "execution_count": null,
      "outputs": [
        {
          "output_type": "stream",
          "name": "stdout",
          "text": [
            "0\n",
            "2\n",
            "4\n",
            "6\n",
            "8\n"
          ]
        }
      ]
    },
    {
      "cell_type": "code",
      "source": [
        "count = 0\n",
        "for i in [4,2,21,34,25]:\n",
        "  count = count + 1\n",
        "print(count)"
      ],
      "metadata": {
        "colab": {
          "base_uri": "https://localhost:8080/"
        },
        "id": "msTeinLDd5j4",
        "outputId": "6ede677e-7056-4e10-efa9-4a9b5a97b2fd"
      },
      "execution_count": null,
      "outputs": [
        {
          "output_type": "stream",
          "name": "stdout",
          "text": [
            "5\n"
          ]
        }
      ]
    },
    {
      "cell_type": "code",
      "source": [
        "total = 0\n",
        "for x in [4,2,21,34,25]:\n",
        "  total = total + x\n",
        "print(total)"
      ],
      "metadata": {
        "colab": {
          "base_uri": "https://localhost:8080/"
        },
        "id": "8X2bfNWYtYAY",
        "outputId": "37a1c6a4-c8dd-4b3a-c7bf-a21be689e412"
      },
      "execution_count": null,
      "outputs": [
        {
          "output_type": "stream",
          "name": "stdout",
          "text": [
            "86\n"
          ]
        }
      ]
    },
    {
      "cell_type": "code",
      "source": [
        "st = 'Hello'\n",
        "for i in st:\n",
        "  print(i,end=' ')"
      ],
      "metadata": {
        "colab": {
          "base_uri": "https://localhost:8080/"
        },
        "id": "KqsRwVQ1tqO1",
        "outputId": "311eeb04-4ccd-4298-89a6-3be37a87aae7"
      },
      "execution_count": null,
      "outputs": [
        {
          "output_type": "stream",
          "name": "stdout",
          "text": [
            "H e l l o "
          ]
        }
      ]
    },
    {
      "cell_type": "code",
      "source": [
        "st=\"Hello World\"\n",
        "print(st[:])"
      ],
      "metadata": {
        "colab": {
          "base_uri": "https://localhost:8080/"
        },
        "id": "mVrGOfZ71m0o",
        "outputId": "c74b7d62-1f52-41f7-e6e7-2bca67b87817"
      },
      "execution_count": null,
      "outputs": [
        {
          "output_type": "stream",
          "name": "stdout",
          "text": [
            "Hello World\n"
          ]
        }
      ]
    },
    {
      "cell_type": "code",
      "source": [
        "st=\"Hello World\"\n",
        "print(st[0:5:])"
      ],
      "metadata": {
        "colab": {
          "base_uri": "https://localhost:8080/"
        },
        "id": "GL734Cnn1u5K",
        "outputId": "071825e9-c92c-442e-e43a-9d4561328688"
      },
      "execution_count": null,
      "outputs": [
        {
          "output_type": "stream",
          "name": "stdout",
          "text": [
            "Hello\n"
          ]
        }
      ]
    },
    {
      "cell_type": "code",
      "source": [
        "st=\"Hello World\"\n",
        "print(st[3:8])"
      ],
      "metadata": {
        "colab": {
          "base_uri": "https://localhost:8080/"
        },
        "id": "kiHpdK-r12Vh",
        "outputId": "a58bef93-3518-4b03-bc8d-035db5869cc6"
      },
      "execution_count": null,
      "outputs": [
        {
          "output_type": "stream",
          "name": "stdout",
          "text": [
            "lo Wo\n"
          ]
        }
      ]
    },
    {
      "cell_type": "code",
      "source": [
        "st=\"Hello World\"\n",
        "print(st[7:])"
      ],
      "metadata": {
        "colab": {
          "base_uri": "https://localhost:8080/"
        },
        "id": "OzZLSCSp42Sr",
        "outputId": "7312b5a0-0397-4497-aa6e-e8abd922f389"
      },
      "execution_count": null,
      "outputs": [
        {
          "output_type": "stream",
          "name": "stdout",
          "text": [
            "orld\n"
          ]
        }
      ]
    },
    {
      "cell_type": "code",
      "source": [
        "st=\"Hello World\"\n",
        "print(st[::2])"
      ],
      "metadata": {
        "colab": {
          "base_uri": "https://localhost:8080/"
        },
        "id": "jXaGRZYJ5AuF",
        "outputId": "100d7436-4fae-495a-f2cd-55baa786aca2"
      },
      "execution_count": null,
      "outputs": [
        {
          "output_type": "stream",
          "name": "stdout",
          "text": [
            "HloWrd\n"
          ]
        }
      ]
    },
    {
      "cell_type": "code",
      "source": [
        "st=\"Hello World\"\n",
        "print(st[4:4])"
      ],
      "metadata": {
        "colab": {
          "base_uri": "https://localhost:8080/"
        },
        "id": "Z7n_R6wT5Oh3",
        "outputId": "1853b20e-686d-4e96-e283-0e072007386d"
      },
      "execution_count": null,
      "outputs": [
        {
          "output_type": "stream",
          "name": "stdout",
          "text": [
            "\n"
          ]
        }
      ]
    },
    {
      "cell_type": "code",
      "source": [
        "st=\"Hello World\"\n",
        "print(st[::-1])"
      ],
      "metadata": {
        "colab": {
          "base_uri": "https://localhost:8080/"
        },
        "id": "YIGk6Cdw7dfE",
        "outputId": "f965530d-2d86-473b-9782-3bb4157bbaa4"
      },
      "execution_count": null,
      "outputs": [
        {
          "output_type": "stream",
          "name": "stdout",
          "text": [
            "dlroW olleH\n"
          ]
        }
      ]
    },
    {
      "cell_type": "code",
      "source": [
        "st=\"Hello World\"\n",
        "st[0] = \"a\"\n",
        "print(st)"
      ],
      "metadata": {
        "colab": {
          "base_uri": "https://localhost:8080/",
          "height": 210
        },
        "id": "M1qiz40U7oLe",
        "outputId": "139ec85e-b818-43a5-dfbe-5a1101cb6714"
      },
      "execution_count": null,
      "outputs": [
        {
          "output_type": "error",
          "ename": "TypeError",
          "evalue": "ignored",
          "traceback": [
            "\u001b[0;31m---------------------------------------------------------------------------\u001b[0m",
            "\u001b[0;31mTypeError\u001b[0m                                 Traceback (most recent call last)",
            "\u001b[0;32m<ipython-input-26-1fa10d5cc27c>\u001b[0m in \u001b[0;36m<cell line: 2>\u001b[0;34m()\u001b[0m\n\u001b[1;32m      1\u001b[0m \u001b[0mst\u001b[0m\u001b[0;34m=\u001b[0m\u001b[0;34m\"Hello World\"\u001b[0m\u001b[0;34m\u001b[0m\u001b[0;34m\u001b[0m\u001b[0m\n\u001b[0;32m----> 2\u001b[0;31m \u001b[0mst\u001b[0m\u001b[0;34m[\u001b[0m\u001b[0;36m0\u001b[0m\u001b[0;34m]\u001b[0m \u001b[0;34m=\u001b[0m \u001b[0;34m\"a\"\u001b[0m\u001b[0;34m\u001b[0m\u001b[0;34m\u001b[0m\u001b[0m\n\u001b[0m\u001b[1;32m      3\u001b[0m \u001b[0mprint\u001b[0m\u001b[0;34m(\u001b[0m\u001b[0mst\u001b[0m\u001b[0;34m)\u001b[0m\u001b[0;34m\u001b[0m\u001b[0;34m\u001b[0m\u001b[0m\n",
            "\u001b[0;31mTypeError\u001b[0m: 'str' object does not support item assignment"
          ]
        }
      ]
    },
    {
      "cell_type": "code",
      "source": [
        "st=\"Hello World\"\n",
        "print(st[:3] +'t'+ st[4:])"
      ],
      "metadata": {
        "colab": {
          "base_uri": "https://localhost:8080/"
        },
        "id": "O3p9Xii778Xq",
        "outputId": "af830d98-536d-4303-d15a-9a396ca3a7d3"
      },
      "execution_count": null,
      "outputs": [
        {
          "output_type": "stream",
          "name": "stdout",
          "text": [
            "Helto World\n"
          ]
        }
      ]
    },
    {
      "cell_type": "code",
      "source": [
        "def countchar(st,ch):\n",
        "  count = 0\n",
        "  for i in st:\n",
        "    if i == ch:\n",
        "      count = count+1\n",
        "  return count\n",
        "\n",
        "st=input(\"enter the string\")\n",
        "ch=input('enter the character')\n",
        "c=countchar(st,ch)\n",
        "print(c)\n"
      ],
      "metadata": {
        "id": "BDwpYthk8oln",
        "colab": {
          "base_uri": "https://localhost:8080/"
        },
        "outputId": "2ff0d5bf-ffd4-4aa5-87a2-2637e82e5d45"
      },
      "execution_count": null,
      "outputs": [
        {
          "output_type": "stream",
          "name": "stdout",
          "text": [
            "enter the stringajaaa\n",
            "enter the charactera\n",
            "4\n"
          ]
        }
      ]
    },
    {
      "cell_type": "code",
      "source": [
        "message = \"hello welcome to the world\"\n",
        "message.split()\n",
        "a=message.split()\n",
        "a.sort()\n",
        "print(a)"
      ],
      "metadata": {
        "colab": {
          "base_uri": "https://localhost:8080/"
        },
        "id": "wRtKREjpU6mS",
        "outputId": "f2d5d924-1775-4b8a-b6c9-5590681326b0"
      },
      "execution_count": null,
      "outputs": [
        {
          "output_type": "stream",
          "name": "stdout",
          "text": [
            "['hello', 'the', 'to', 'welcome', 'world']\n"
          ]
        }
      ]
    },
    {
      "cell_type": "code",
      "source": [
        "data = 'From ajithkumars2202@gmail.com sat Jan 22 09:14:16 2022'\n",
        "atpos = data.find('@')\n",
        "print(atpos)\n",
        "spos = data.find(' ',atpos)\n",
        "print(spos)\n",
        "host = data[atpos+1:spos]\n",
        "print(host)"
      ],
      "metadata": {
        "id": "GUF03KzTY5il",
        "colab": {
          "base_uri": "https://localhost:8080/"
        },
        "outputId": "184837c2-854f-4c65-efa9-eb6ba55d6b71"
      },
      "execution_count": null,
      "outputs": [
        {
          "output_type": "stream",
          "name": "stdout",
          "text": [
            "20\n",
            "30\n",
            "gmail.com\n"
          ]
        }
      ]
    },
    {
      "cell_type": "code",
      "source": [
        "data = 'From ajithkumars2202@gmail.com sat Jan 22 09:14:16 2022'\n",
        "atpos = data.find(' ',atpos)\n",
        "print(atpos)"
      ],
      "metadata": {
        "colab": {
          "base_uri": "https://localhost:8080/"
        },
        "id": "IX6h47UotYZl",
        "outputId": "f5fc81ce-614d-4a4c-b7ec-e6a9ee481d1b"
      },
      "execution_count": null,
      "outputs": [
        {
          "output_type": "stream",
          "name": "stdout",
          "text": [
            "4\n"
          ]
        }
      ]
    },
    {
      "cell_type": "code",
      "source": [],
      "metadata": {
        "id": "tDKep4mo4610"
      },
      "execution_count": null,
      "outputs": []
    }
  ],
  "metadata": {
    "colab": {
      "provenance": []
    },
    "kernelspec": {
      "display_name": "Python 3",
      "name": "python3"
    },
    "language_info": {
      "name": "python"
    }
  },
  "nbformat": 4,
  "nbformat_minor": 0
}